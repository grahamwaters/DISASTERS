{
 "cells": [
  {
   "cell_type": "markdown",
   "source": [
    "What files do I need?\n",
    "\n",
    "You'll need train.csv, test.csv and sample_submission.csv.\n",
    "What should I expect the data format to be?\n",
    "\n",
    "Each sample in the train and test set has the following information:\n",
    "\n",
    "    The text of a tweet\n",
    "    A keyword from that tweet (although this may be blank!)\n",
    "    The location the tweet was sent from (may also be blank)\n",
    "\n",
    "What am I predicting?\n",
    "\n",
    "You are predicting whether a given tweet is about a real disaster or not. If so, predict a 1. If not, predict a 0.\n",
    "Files\n",
    "\n",
    "    train.csv - the training set\n",
    "    test.csv - the test set\n",
    "    sample_submission.csv - a sample submission file in the correct format\n",
    "\n",
    "Columns\n",
    "\n",
    "    id - a unique identifier for each tweet\n",
    "    text - the text of the tweet\n",
    "    location - the location the tweet was sent from (may be blank)\n",
    "    keyword - a particular keyword from the tweet (may be blank)\n",
    "    target - in train.csv only, this denotes whether a tweet is about a real disaster (1) or not (0)\n"
   ],
   "metadata": {}
  },
  {
   "cell_type": "code",
   "execution_count": 4,
   "source": [
    "import re # for regular expressions\n",
    "import pandas as pd \n",
    "pd.set_option(\"display.max_colwidth\", 200)\n",
    "import numpy as np \n",
    "import matplotlib.pyplot as plt \n",
    "import seaborn as sns\n",
    "import string\n",
    "import nltk # for text manipulation\n",
    "from nltk.stem.porter import *\n",
    "from sklearn.feature_extraction.text import TfidfVectorizer, CountVectorizer\n",
    "from tqdm import tqdm\n",
    "#from gensim.models.doc2vec import LabeledSentence\n",
    "#import gensim\n",
    "from sklearn.linear_model import LogisticRegression\n",
    "from scipy import stats \n",
    "from sklearn import metrics \n",
    "from sklearn.metrics import mean_squared_error,mean_absolute_error, make_scorer,classification_report,confusion_matrix,accuracy_score,roc_auc_score,roc_curve\n",
    "from sklearn.model_selection import train_test_split,cross_val_score,KFold\n",
    "from sklearn.model_selection import train_test_split\n",
    "from sklearn.metrics import f1_score\n",
    "from sklearn.naive_bayes import BernoulliNB\n",
    "from sklearn import svm\n",
    "from sklearn.ensemble import RandomForestClassifier\n",
    "#from xgboost import XGBClassifier\n",
    "#import xgboost as xgb\n",
    "import warnings \n",
    "warnings.filterwarnings(\"ignore\")\n",
    "\n",
    "%matplotlib inline"
   ],
   "outputs": [],
   "metadata": {}
  },
  {
   "cell_type": "code",
   "execution_count": 5,
   "source": [
    "import sys\n",
    "stdout = sys.stdout\n",
    "\n",
    "# some functions that mess up sys.stdout\n",
    "\n",
    "sys.stdout = stdout"
   ],
   "outputs": [],
   "metadata": {}
  },
  {
   "cell_type": "code",
   "execution_count": 6,
   "source": [
    "IS_CREDIBLE_DISASTER = 0 # init\n",
    "\n",
    "# a generator creates fake data \n",
    "\n",
    "# a discriminator compares that to real data \n",
    "\n",
    "# each is scored and improved until generator data is above acceptable threshhold \n",
    "import tqdm \n",
    "from tqdm import tqdm\n",
    "\n",
    "from keras.preprocessing.text import text_to_word_sequence\n",
    "# define the text \n",
    "text = train_data\n",
    "# tokenizing the text \n",
    "tokens = text_to_word_sequence(text)\n",
    "print(tokens[0])\n"
   ],
   "outputs": [],
   "metadata": {}
  },
  {
   "cell_type": "code",
   "execution_count": 4,
   "source": [
    "# Load CSV (using python)\n",
    "import csv\n",
    "import numpy\n",
    "import pandas as pd\n",
    "from textblob import TextBlob\n",
    "filename = '/Users/grahamwaters/Documents/GitHub Main Repository/KAGGLE_COMPETITIONS/DISASTERS/test.csv'\n",
    "#reader = csv.reader(raw_data, delimiter=',', quoting=csv.QUOTE_NONE)\n",
    "df_test = pd.read_csv(filename)\n",
    "filename = '/Users/grahamwaters/Documents/GitHub Main Repository/KAGGLE_COMPETITIONS/DISASTERS/train.csv'\n",
    "#reader = csv.reader(raw_data, delimiter=',', quoting=csv.QUOTE_NONE)\n",
    "df_train = pd.read_csv(filename)\n",
    "df_train\n",
    "train_data = pd.array(df_train['text'])\n",
    "test_data = pd.array(df_test['text'])\n",
    "test_data\n",
    "# for the train data set tweets are under header: 'text' and there is another header: 'target' which shows legit or illegit\n",
    "#merge = train_data.append(test_data,ignore_index = True, sort = False)\n",
    "\n"
   ],
   "outputs": [
    {
     "output_type": "execute_result",
     "data": {
      "text/plain": [
       "<PandasArray>\n",
       "[                                                                                                         'Just happened a terrible car crash',\n",
       "                                                                            'Heard about #earthquake is different cities, stay safe everyone.',\n",
       "                                            'there is a forest fire at spot pond, geese are fleeing across the street, I cannot save them all',\n",
       "                                                                                                    'Apocalypse lighting. #Spokane #wildfires',\n",
       "                                                                                               'Typhoon Soudelor kills 28 in China and Taiwan',\n",
       "                                                                                                          \"We're shaking...It's an earthquake\",\n",
       "                                                                    \"They'd probably still show more life than Arsenal did yesterday, eh? EH?\",\n",
       "                                                                                                                           'Hey! How are you?',\n",
       "                                                                                                                            'What a nice hat?',\n",
       "                                                                                                                                   'Fuck off!',\n",
       " ...\n",
       "                                                            'Malaysian PM confirms debris is from missing flight MH370 http://t.co/pfAvW5QyqE',\n",
       "                                                             'Officials: Alabama home quarantined over possible Ebola case - Washington Times',\n",
       "    'See the 16yr old PKK suicide bomber who detonated bomb in Turkey Army trench released: Harun Ìàekdar ... http://t.co/hKuT5mSdtP @MsOreo_',\n",
       "           'To conference attendees! The blue line from the airport has DERAILED - please look into taking a taxi to the hotel! See you soon!',\n",
       "    'The death toll in a #IS-suicide car bombing on a #YPG position in the Village of Rajman in the eastern province of Hasaka has risen to 9',\n",
       "                                                                                  'EARTHQUAKE SAFETY LOS ANGELES \\x89ÛÒ SAFETY FASTENERS XrWn',\n",
       " 'Storm in RI worse than last hurricane. My city&amp;3others hardest hit. My yard looks like it was bombed. Around 20000K still without power',\n",
       "                                                                                     'Green Line derailment in Chicago http://t.co/UtbXLcBIuY',\n",
       "                                                                           'MEG issues Hazardous Weather Outlook (HWO) http://t.co/3X6RBQJHn3',\n",
       "                                                                        '#CityofCalgary has activated its Municipal Emergency Plan. #yycstorm']\n",
       "Length: 3263, dtype: object"
      ]
     },
     "metadata": {},
     "execution_count": 4
    }
   ],
   "metadata": {}
  },
  {
   "cell_type": "code",
   "execution_count": 5,
   "source": [
    "import pandas as pd\n",
    "import re\n",
    "from string import punctuation\n",
    "def preprocess_text(text):\n",
    "    text = text.lower()  # Lowercase text\n",
    "    text = re.sub(f\"[{re.escape(punctuation)}]\", \"\", text)  # Remove punctuation\n",
    "    text = \" \".join(text.split())  # Remove extra spaces, tabs, and new lines\n",
    "    return text\n"
   ],
   "outputs": [],
   "metadata": {}
  },
  {
   "cell_type": "code",
   "execution_count": 9,
   "source": [
    "from textblob import Word # for lemmatization\n",
    "import nltk\n",
    "\n",
    "def blobber(df,text):\n",
    "    text = preprocess_text(text)\n",
    "    # pass an entry # and a tweet, it disects it and returns a df \n",
    "    blob = TextBlob(text)\n",
    "    \n",
    "    # lemmatization\n",
    "\n",
    "    wordlist = blob.words\n",
    "    upd_wordlist = []\n",
    "    for w in wordlist:\n",
    "        upd_wordlist.append(w.lemmatize())\n",
    "    #print(text[0:10])\n",
    "    #print('polarity_score:',blob.polarity)\n",
    "    #print('sentiment_score:',blob.sentiment)\n",
    "    #print('words_score:',blob.words)\n",
    "    df[str(text)] = {\n",
    "        'tags': blob.tags,\n",
    "        'phrases':blob.noun_phrases,\n",
    "        'sentiment':blob.sentiment,\n",
    "        'words':blob.words,\n",
    "        'lemmatized_words':upd_wordlist,\n",
    "        'sentences':blob.sentences, # sentences\n",
    "        'tweet_length':len(str(text)) # length of tweet\n",
    "    }\n",
    "    \n",
    "    return df"
   ],
   "outputs": [],
   "metadata": {}
  },
  {
   "cell_type": "code",
   "execution_count": null,
   "source": [],
   "outputs": [],
   "metadata": {}
  },
  {
   "cell_type": "code",
   "execution_count": 10,
   "source": [
    "import tqdm\n",
    "from tqdm import tqdm\n",
    "\n",
    "df_test = {}\n",
    "print(\"building test data ...\")\n",
    "for tweet_text in tqdm(test_data):\n",
    "    df_test = blobber(df_test,tweet_text)\n",
    "\n",
    "df_training = {}\n",
    "print(\"building training data ...\")\n",
    "for tweet_text in tqdm(train_data):\n",
    "    df_training = blobber(df_training,tweet_text)\n"
   ],
   "outputs": [
    {
     "output_type": "stream",
     "name": "stdout",
     "text": [
      "building test data ...\n"
     ]
    },
    {
     "output_type": "stream",
     "name": "stderr",
     "text": [
      "100%|██████████| 3263/3263 [00:05<00:00, 598.97it/s]\n"
     ]
    },
    {
     "output_type": "stream",
     "name": "stdout",
     "text": [
      "building training data ...\n"
     ]
    },
    {
     "output_type": "stream",
     "name": "stderr",
     "text": [
      "100%|██████████| 7613/7613 [00:11<00:00, 642.64it/s]\n"
     ]
    }
   ],
   "metadata": {}
  },
  {
   "cell_type": "code",
   "execution_count": 13,
   "source": [
    "from sklearn.feature_extraction.text import TfidfVectorizer, CountVectorizer\n",
    "bow_vectorizer = CountVectorizer(max_df=0.90, min_df=2, max_features=1000, stop_words='english')\n",
    "bow = bow_vectorizer.fit_transform(df_training['text'])"
   ],
   "outputs": [
    {
     "output_type": "error",
     "ename": "KeyError",
     "evalue": "'text'",
     "traceback": [
      "\u001b[0;31m---------------------------------------------------------------------------\u001b[0m",
      "\u001b[0;31mKeyError\u001b[0m                                  Traceback (most recent call last)",
      "\u001b[0;32m/var/folders/34/d1tlq3k91hb0lj6x90xpzb4r0000gn/T/ipykernel_15912/1765920499.py\u001b[0m in \u001b[0;36m<module>\u001b[0;34m\u001b[0m\n\u001b[1;32m      1\u001b[0m \u001b[0;32mfrom\u001b[0m \u001b[0msklearn\u001b[0m\u001b[0;34m.\u001b[0m\u001b[0mfeature_extraction\u001b[0m\u001b[0;34m.\u001b[0m\u001b[0mtext\u001b[0m \u001b[0;32mimport\u001b[0m \u001b[0mTfidfVectorizer\u001b[0m\u001b[0;34m,\u001b[0m \u001b[0mCountVectorizer\u001b[0m\u001b[0;34m\u001b[0m\u001b[0;34m\u001b[0m\u001b[0m\n\u001b[1;32m      2\u001b[0m \u001b[0mbow_vectorizer\u001b[0m \u001b[0;34m=\u001b[0m \u001b[0mCountVectorizer\u001b[0m\u001b[0;34m(\u001b[0m\u001b[0mmax_df\u001b[0m\u001b[0;34m=\u001b[0m\u001b[0;36m0.90\u001b[0m\u001b[0;34m,\u001b[0m \u001b[0mmin_df\u001b[0m\u001b[0;34m=\u001b[0m\u001b[0;36m2\u001b[0m\u001b[0;34m,\u001b[0m \u001b[0mmax_features\u001b[0m\u001b[0;34m=\u001b[0m\u001b[0;36m1000\u001b[0m\u001b[0;34m,\u001b[0m \u001b[0mstop_words\u001b[0m\u001b[0;34m=\u001b[0m\u001b[0;34m'english'\u001b[0m\u001b[0;34m)\u001b[0m\u001b[0;34m\u001b[0m\u001b[0;34m\u001b[0m\u001b[0m\n\u001b[0;32m----> 3\u001b[0;31m \u001b[0mbow\u001b[0m \u001b[0;34m=\u001b[0m \u001b[0mbow_vectorizer\u001b[0m\u001b[0;34m.\u001b[0m\u001b[0mfit_transform\u001b[0m\u001b[0;34m(\u001b[0m\u001b[0mdf_training\u001b[0m\u001b[0;34m[\u001b[0m\u001b[0;34m'text'\u001b[0m\u001b[0;34m]\u001b[0m\u001b[0;34m)\u001b[0m\u001b[0;34m\u001b[0m\u001b[0;34m\u001b[0m\u001b[0m\n\u001b[0m",
      "\u001b[0;31mKeyError\u001b[0m: 'text'"
     ]
    }
   ],
   "metadata": {}
  },
  {
   "cell_type": "markdown",
   "source": [
    "# now build model based on the train set which has the answers already. \n",
    "# Logistic Regression Modeling"
   ],
   "metadata": {}
  },
  {
   "cell_type": "code",
   "execution_count": null,
   "source": [
    "train_bow = bow[:]"
   ],
   "outputs": [],
   "metadata": {}
  }
 ],
 "metadata": {
  "orig_nbformat": 4,
  "language_info": {
   "name": "python",
   "version": "3.9.6",
   "mimetype": "text/x-python",
   "codemirror_mode": {
    "name": "ipython",
    "version": 3
   },
   "pygments_lexer": "ipython3",
   "nbconvert_exporter": "python",
   "file_extension": ".py"
  },
  "kernelspec": {
   "name": "python3",
   "display_name": "Python 3.9.6 64-bit"
  },
  "interpreter": {
   "hash": "aee8b7b246df8f9039afb4144a1f6fd8d2ca17a180786b69acc140d282b71a49"
  }
 },
 "nbformat": 4,
 "nbformat_minor": 2
}