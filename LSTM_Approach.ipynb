{
 "cells": [
  {
   "cell_type": "code",
   "execution_count": 1,
   "source": [
    "from tensorflow.keras.callbacks import LambdaCallback\n",
    "from tensorflow.keras.models import Sequential\n",
    "from tensorflow.keras.layers import Dense\n",
    "from tensorflow.keras.layers import LSTM\n",
    "from tensorflow.keras.optimizers import RMSprop\n",
    "from tensorflow.keras.utils import get_file\n",
    "import numpy as np\n",
    "import random\n",
    "import sys\n",
    "import io\n",
    "import re"
   ],
   "outputs": [],
   "metadata": {}
  },
  {
   "cell_type": "code",
   "execution_count": 2,
   "source": [
    "import requests\n",
    "r = requests.get(\"https://data.heatonresearch.com/data/t81-558/text/\"\\\n",
    "    \"treasure_island.txt\")\n",
    "raw_text = r.text\n",
    "print(raw_text[0:1000])\n"
   ],
   "outputs": [
    {
     "output_type": "stream",
     "name": "stdout",
     "text": [
      "ï»¿The Project Gutenberg EBook of Treasure Island, by Robert Louis Stevenson\n",
      "\n",
      "This eBook is for the use of anyone anywhere at no cost and with\n",
      "almost no restrictions whatsoever.  You may copy it, give it away or\n",
      "re-use it under the terms of the Project Gutenberg License included\n",
      "with this eBook or online at www.gutenberg.net\n",
      "\n",
      "\n",
      "Title: Treasure Island\n",
      "\n",
      "Author: Robert Louis Stevenson\n",
      "\n",
      "Illustrator: Milo Winter\n",
      "\n",
      "Release Date: January 12, 2009 [EBook #27780]\n",
      "\n",
      "Language: English\n",
      "\n",
      "\n",
      "*** START OF THIS PROJECT GUTENBERG EBOOK TREASURE ISLAND ***\n",
      "\n",
      "\n",
      "\n",
      "\n",
      "Produced by Juliet Sutherland, Stephen Blundell and the\n",
      "Online Distributed Proofreading Team at http://www.pgdp.net\n",
      "\n",
      "\n",
      "\n",
      "\n",
      "\n",
      "\n",
      "\n",
      "\n",
      "\n",
      " THE ILLUSTRATED CHILDREN'S LIBRARY\n",
      "\n",
      "\n",
      "         _Treasure Island_\n",
      "\n",
      "       Robert Louis Stevenson\n",
      "\n",
      "          _Illustrated by_\n",
      "            Milo Winter\n",
      "\n",
      "\n",
      "           [Illustration]\n",
      "\n",
      "\n",
      "           GRAMERCY BOOKS\n",
      "              NEW YORK\n",
      "\n",
      "\n",
      "\n",
      "\n",
      " Foreword copyright Â© 1986 by Random House V\n"
     ]
    }
   ],
   "metadata": {}
  }
 ],
 "metadata": {
  "orig_nbformat": 4,
  "language_info": {
   "name": "python",
   "version": "3.9.6",
   "mimetype": "text/x-python",
   "codemirror_mode": {
    "name": "ipython",
    "version": 3
   },
   "pygments_lexer": "ipython3",
   "nbconvert_exporter": "python",
   "file_extension": ".py"
  },
  "kernelspec": {
   "name": "python3",
   "display_name": "Python 3.9.6 64-bit"
  },
  "interpreter": {
   "hash": "aee8b7b246df8f9039afb4144a1f6fd8d2ca17a180786b69acc140d282b71a49"
  }
 },
 "nbformat": 4,
 "nbformat_minor": 2
}